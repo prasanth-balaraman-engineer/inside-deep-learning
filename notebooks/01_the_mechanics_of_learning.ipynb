{
  "nbformat": 4,
  "nbformat_minor": 0,
  "metadata": {
    "colab": {
      "provenance": [],
      "gpuType": "T4",
      "authorship_tag": "ABX9TyOQvlATm7LQHG8VNi9khsBj",
      "include_colab_link": true
    },
    "kernelspec": {
      "name": "python3",
      "display_name": "Python 3"
    },
    "language_info": {
      "name": "python"
    },
    "accelerator": "GPU"
  },
  "cells": [
    {
      "cell_type": "markdown",
      "metadata": {
        "id": "view-in-github",
        "colab_type": "text"
      },
      "source": [
        "<a href=\"https://colab.research.google.com/github/prasanth-balaraman-engineer/inside-deep-learning/blob/main/01_the_mechanics_of_learning.ipynb\" target=\"_parent\"><img src=\"https://colab.research.google.com/assets/colab-badge.svg\" alt=\"Open In Colab\"/></a>"
      ]
    },
    {
      "cell_type": "code",
      "execution_count": 1,
      "metadata": {
        "id": "OoaPwfXh7Vpv"
      },
      "outputs": [],
      "source": [
        "import numpy as np\n",
        "import pandas as pd\n",
        "import matplotlib.pyplot as plt\n",
        "import seaborn as sns\n",
        "from tqdm import tqdm\n",
        "import torch"
      ]
    },
    {
      "cell_type": "code",
      "source": [
        "torch_scalar = torch.tensor(3.14)\n",
        "torch_vector = torch.tensor([1, 2, 3, 4])\n",
        "torch_matrix = torch.tensor([[1, 2], [3, 4], [5, 6], [7, 8]])\n",
        "torch_tensor3d = torch.tensor([\n",
        "    [[1, 2, 3], [4, 5, 6]],\n",
        "    [[7, 8, 9], [10, 11, 12]],\n",
        "    [[13, 14, 15], [16, 17, 18]],\n",
        "    [[19, 20, 21], [22, 23, 24]],\n",
        "])"
      ],
      "metadata": {
        "id": "xtPvsmGqJjVR"
      },
      "execution_count": 2,
      "outputs": []
    },
    {
      "cell_type": "code",
      "source": [
        "print(torch_scalar.shape)\n",
        "print(torch_vector.shape)\n",
        "print(torch_matrix.shape)\n",
        "print(torch_tensor3d.shape)"
      ],
      "metadata": {
        "colab": {
          "base_uri": "https://localhost:8080/"
        },
        "id": "cbSN3DvAU78x",
        "outputId": "9a2f232b-cae3-43e8-ce61-d826733f77fe"
      },
      "execution_count": 3,
      "outputs": [
        {
          "output_type": "stream",
          "name": "stdout",
          "text": [
            "torch.Size([])\n",
            "torch.Size([4])\n",
            "torch.Size([4, 2])\n",
            "torch.Size([4, 2, 3])\n"
          ]
        }
      ]
    },
    {
      "cell_type": "code",
      "source": [
        "x_np = np.random.random((4, 4))\n",
        "x_pt = torch.tensor(x_np)\n",
        "\n",
        "print(x_np.dtype, x_pt.dtype)\n",
        "x_np = np.asarray(x_np, dtype=np.float32)\n",
        "x_pt = torch.tensor(x_np, dtype=torch.float32)\n",
        "print(x_np.dtype, x_pt.dtype)"
      ],
      "metadata": {
        "colab": {
          "base_uri": "https://localhost:8080/"
        },
        "id": "cwB8JrOzXxWR",
        "outputId": "4b83ed7b-b29f-4b82-ac6a-4e3e38aa83f0"
      },
      "execution_count": 4,
      "outputs": [
        {
          "output_type": "stream",
          "name": "stdout",
          "text": [
            "float64 torch.float64\n",
            "float32 torch.float32\n"
          ]
        }
      ]
    },
    {
      "cell_type": "code",
      "source": [
        "b_np = x_np > 0.5\n",
        "print(b_np)\n",
        "print(b_np.dtype)"
      ],
      "metadata": {
        "colab": {
          "base_uri": "https://localhost:8080/"
        },
        "id": "1vxF9-U7YZey",
        "outputId": "47d762e5-4da2-4a13-ae2a-622044713bfe"
      },
      "execution_count": 5,
      "outputs": [
        {
          "output_type": "stream",
          "name": "stdout",
          "text": [
            "[[False  True  True  True]\n",
            " [False  True False False]\n",
            " [ True  True  True False]\n",
            " [False  True  True False]]\n",
            "bool\n"
          ]
        }
      ]
    },
    {
      "cell_type": "code",
      "source": [
        "b_pt = x_pt > 0.5\n",
        "print(b_pt)\n",
        "print(b_pt.dtype)"
      ],
      "metadata": {
        "colab": {
          "base_uri": "https://localhost:8080/"
        },
        "id": "kBYhel13oNGz",
        "outputId": "d17a6074-c0ab-48fd-d261-e65a3a07a876"
      },
      "execution_count": 6,
      "outputs": [
        {
          "output_type": "stream",
          "name": "stdout",
          "text": [
            "tensor([[False,  True,  True,  True],\n",
            "        [False,  True, False, False],\n",
            "        [ True,  True,  True, False],\n",
            "        [False,  True,  True, False]])\n",
            "torch.bool\n"
          ]
        }
      ]
    },
    {
      "cell_type": "code",
      "source": [
        "np.sum(x_np)"
      ],
      "metadata": {
        "colab": {
          "base_uri": "https://localhost:8080/"
        },
        "id": "CKzkTueAocZf",
        "outputId": "2e5d473b-bdf9-4855-e237-c6e730a4174b"
      },
      "execution_count": 7,
      "outputs": [
        {
          "output_type": "execute_result",
          "data": {
            "text/plain": [
              "9.864393"
            ]
          },
          "metadata": {},
          "execution_count": 7
        }
      ]
    },
    {
      "cell_type": "code",
      "source": [
        "torch.sum(x_pt)"
      ],
      "metadata": {
        "colab": {
          "base_uri": "https://localhost:8080/"
        },
        "id": "XFt9ESc8ooLu",
        "outputId": "d125aa6d-e1b4-42ac-f17b-9c3dd54ece12"
      },
      "execution_count": 8,
      "outputs": [
        {
          "output_type": "execute_result",
          "data": {
            "text/plain": [
              "tensor(9.8644)"
            ]
          },
          "metadata": {},
          "execution_count": 8
        }
      ]
    },
    {
      "cell_type": "code",
      "source": [
        "print(torch_tensor3d.shape)\n",
        "print(np.transpose(torch_tensor3d).shape)\n",
        "print(torch.transpose(torch_tensor3d, 0, 2).shape)"
      ],
      "metadata": {
        "colab": {
          "base_uri": "https://localhost:8080/"
        },
        "id": "3qXEIh3uqzCe",
        "outputId": "5293c8ea-07f0-41f8-8d3a-591d8448e76d"
      },
      "execution_count": 9,
      "outputs": [
        {
          "output_type": "stream",
          "name": "stdout",
          "text": [
            "torch.Size([4, 2, 3])\n",
            "torch.Size([3, 2, 4])\n",
            "torch.Size([3, 2, 4])\n"
          ]
        }
      ]
    },
    {
      "cell_type": "code",
      "source": [
        "import timeit\n",
        "\n",
        "x = torch.rand(2**11, 2**11)\n",
        "time_cpu = timeit.timeit(stmt='x@x', globals=globals(), number=100)\n",
        "time_cpu"
      ],
      "metadata": {
        "colab": {
          "base_uri": "https://localhost:8080/"
        },
        "id": "X5lYd7oFBC3Y",
        "outputId": "50301941-8761-4543-b6f8-60238d625cb2"
      },
      "execution_count": 10,
      "outputs": [
        {
          "output_type": "execute_result",
          "data": {
            "text/plain": [
              "29.340017571999994"
            ]
          },
          "metadata": {},
          "execution_count": 10
        }
      ]
    },
    {
      "cell_type": "code",
      "source": [
        "print(f'Is CUDA available?: {torch.cuda.is_available()}')"
      ],
      "metadata": {
        "colab": {
          "base_uri": "https://localhost:8080/"
        },
        "id": "dYcI5c5iJkCH",
        "outputId": "995b2b8e-4195-4597-980f-ebd67ed977f2"
      },
      "execution_count": 11,
      "outputs": [
        {
          "output_type": "stream",
          "name": "stdout",
          "text": [
            "Is CUDA available?: True\n"
          ]
        }
      ]
    },
    {
      "cell_type": "code",
      "source": [
        "device = torch.device('cuda')\n",
        "x = x.to(device)\n",
        "time_gpu = timeit.timeit(stmt='x@x', globals=globals(), number=100)\n",
        "time_gpu"
      ],
      "metadata": {
        "colab": {
          "base_uri": "https://localhost:8080/"
        },
        "id": "PM-Ly1v7OKyD",
        "outputId": "846fde9d-d574-4718-ab83-f8535bbe0fab"
      },
      "execution_count": 12,
      "outputs": [
        {
          "output_type": "execute_result",
          "data": {
            "text/plain": [
              "2.774572860999996"
            ]
          },
          "metadata": {},
          "execution_count": 12
        }
      ]
    },
    {
      "cell_type": "code",
      "source": [
        "x = torch.rand(2**11, 2**11, dtype=torch.float64)\n",
        "time_cpu_64 = timeit.timeit(stmt='x@x', globals=globals(), number=100)\n",
        "time_cpu_64"
      ],
      "metadata": {
        "colab": {
          "base_uri": "https://localhost:8080/"
        },
        "id": "cjOPJmwXPGy4",
        "outputId": "df7bcaa2-9b2d-4a18-9733-79bef3770df6"
      },
      "execution_count": 13,
      "outputs": [
        {
          "output_type": "execute_result",
          "data": {
            "text/plain": [
              "49.377279857000005"
            ]
          },
          "metadata": {},
          "execution_count": 13
        }
      ]
    },
    {
      "cell_type": "code",
      "source": [
        "x = torch.rand(2**11, 2**11, dtype=torch.float64)\n",
        "x = x.to(device)\n",
        "time_gpu_64 = timeit.timeit(stmt='x@x', globals=globals(), number=100)\n",
        "time_gpu_64"
      ],
      "metadata": {
        "colab": {
          "base_uri": "https://localhost:8080/"
        },
        "id": "kFidCP0kPG1d",
        "outputId": "f1a3a378-8aa2-49b5-bad9-11a28bc69f5f"
      },
      "execution_count": 14,
      "outputs": [
        {
          "output_type": "execute_result",
          "data": {
            "text/plain": [
              "0.01315939599999183"
            ]
          },
          "metadata": {},
          "execution_count": 14
        }
      ]
    },
    {
      "cell_type": "code",
      "source": [
        "x = torch.rand(128, 128).to(device)\n",
        "y = torch.rand(128, 128)\n",
        "x @ y"
      ],
      "metadata": {
        "colab": {
          "base_uri": "https://localhost:8080/",
          "height": 218
        },
        "id": "aZYMLmKqORjP",
        "outputId": "3b440cd0-4c4b-4a92-9965-13e927096c6c"
      },
      "execution_count": 15,
      "outputs": [
        {
          "output_type": "error",
          "ename": "RuntimeError",
          "evalue": "ignored",
          "traceback": [
            "\u001b[0;31m---------------------------------------------------------------------------\u001b[0m",
            "\u001b[0;31mRuntimeError\u001b[0m                              Traceback (most recent call last)",
            "\u001b[0;32m<ipython-input-15-58cfbe4fa88f>\u001b[0m in \u001b[0;36m<cell line: 3>\u001b[0;34m()\u001b[0m\n\u001b[1;32m      1\u001b[0m \u001b[0mx\u001b[0m \u001b[0;34m=\u001b[0m \u001b[0mtorch\u001b[0m\u001b[0;34m.\u001b[0m\u001b[0mrand\u001b[0m\u001b[0;34m(\u001b[0m\u001b[0;36m128\u001b[0m\u001b[0;34m,\u001b[0m \u001b[0;36m128\u001b[0m\u001b[0;34m)\u001b[0m\u001b[0;34m.\u001b[0m\u001b[0mto\u001b[0m\u001b[0;34m(\u001b[0m\u001b[0mdevice\u001b[0m\u001b[0;34m)\u001b[0m\u001b[0;34m\u001b[0m\u001b[0;34m\u001b[0m\u001b[0m\n\u001b[1;32m      2\u001b[0m \u001b[0my\u001b[0m \u001b[0;34m=\u001b[0m \u001b[0mtorch\u001b[0m\u001b[0;34m.\u001b[0m\u001b[0mrand\u001b[0m\u001b[0;34m(\u001b[0m\u001b[0;36m128\u001b[0m\u001b[0;34m,\u001b[0m \u001b[0;36m128\u001b[0m\u001b[0;34m)\u001b[0m\u001b[0;34m\u001b[0m\u001b[0;34m\u001b[0m\u001b[0m\n\u001b[0;32m----> 3\u001b[0;31m \u001b[0mx\u001b[0m \u001b[0;34m@\u001b[0m \u001b[0my\u001b[0m\u001b[0;34m\u001b[0m\u001b[0;34m\u001b[0m\u001b[0m\n\u001b[0m",
            "\u001b[0;31mRuntimeError\u001b[0m: Expected all tensors to be on the same device, but found at least two devices, cuda:0 and cpu! (when checking argument for argument mat2 in method wrapper_CUDA_mm)"
          ]
        }
      ]
    },
    {
      "cell_type": "code",
      "source": [
        "x.numpy()"
      ],
      "metadata": {
        "colab": {
          "base_uri": "https://localhost:8080/",
          "height": 166
        },
        "id": "dByrQneTOyte",
        "outputId": "3af2d50e-175b-4228-edf5-3d4667809ccd"
      },
      "execution_count": 16,
      "outputs": [
        {
          "output_type": "error",
          "ename": "TypeError",
          "evalue": "ignored",
          "traceback": [
            "\u001b[0;31m---------------------------------------------------------------------------\u001b[0m",
            "\u001b[0;31mTypeError\u001b[0m                                 Traceback (most recent call last)",
            "\u001b[0;32m<ipython-input-16-2527552080a3>\u001b[0m in \u001b[0;36m<cell line: 1>\u001b[0;34m()\u001b[0m\n\u001b[0;32m----> 1\u001b[0;31m \u001b[0mx\u001b[0m\u001b[0;34m.\u001b[0m\u001b[0mnumpy\u001b[0m\u001b[0;34m(\u001b[0m\u001b[0;34m)\u001b[0m\u001b[0;34m\u001b[0m\u001b[0;34m\u001b[0m\u001b[0m\n\u001b[0m",
            "\u001b[0;31mTypeError\u001b[0m: can't convert cuda:0 device type tensor to numpy. Use Tensor.cpu() to copy the tensor to host memory first."
          ]
        }
      ]
    },
    {
      "cell_type": "code",
      "source": [
        "x.cpu().numpy()"
      ],
      "metadata": {
        "colab": {
          "base_uri": "https://localhost:8080/"
        },
        "id": "dRYL32rgO7ac",
        "outputId": "d773cbcd-ee49-4660-8fb2-326d62e4778b"
      },
      "execution_count": 17,
      "outputs": [
        {
          "output_type": "execute_result",
          "data": {
            "text/plain": [
              "array([[0.29237205, 0.5031258 , 0.11255705, ..., 0.90324545, 0.3135907 ,\n",
              "        0.6324351 ],\n",
              "       [0.1664446 , 0.5480563 , 0.25375223, ..., 0.03509629, 0.42290944,\n",
              "        0.58856064],\n",
              "       [0.46692318, 0.27654767, 0.62668294, ..., 0.6263242 , 0.62815577,\n",
              "        0.6826137 ],\n",
              "       ...,\n",
              "       [0.527891  , 0.7501106 , 0.5298832 , ..., 0.02728897, 0.828868  ,\n",
              "        0.8734382 ],\n",
              "       [0.12213916, 0.8798388 , 0.19583625, ..., 0.24426585, 0.62336683,\n",
              "        0.5066739 ],\n",
              "       [0.3959874 , 0.5229944 , 0.95565134, ..., 0.71351653, 0.2586487 ,\n",
              "        0.3407945 ]], dtype=float32)"
            ]
          },
          "metadata": {},
          "execution_count": 17
        }
      ]
    },
    {
      "cell_type": "code",
      "source": [
        "def move_to(obj, device):\n",
        "  if isinstance(obj, list):\n",
        "    return [move_to(i, device) for i in obj]\n",
        "  elif isinstance(obj, tuple):\n",
        "    return tuple(list(obj), device)\n",
        "  elif isinstance(obj, set):\n",
        "    return set(list(obj), device)\n",
        "  elif isinstance(obj, dict):\n",
        "    result = dict()\n",
        "    for key, value in obj.items():\n",
        "      result[move_to(key, device)] = move_to(value, device)\n",
        "    return result\n",
        "  elif hasattr(obj, 'to'):\n",
        "    return obj.to(device)\n",
        "  else:\n",
        "    return obj\n",
        "\n",
        "some_tensors = [torch.tensor(1), torch.tensor(2)]\n",
        "print(some_tensors)\n",
        "print(move_to(some_tensors, device))"
      ],
      "metadata": {
        "colab": {
          "base_uri": "https://localhost:8080/"
        },
        "id": "QxI3ccMfO_LR",
        "outputId": "48154392-ec82-4b34-cfeb-7af0c1616f90"
      },
      "execution_count": 18,
      "outputs": [
        {
          "output_type": "stream",
          "name": "stdout",
          "text": [
            "[tensor(1), tensor(2)]\n",
            "[tensor(1, device='cuda:0'), tensor(2, device='cuda:0')]\n"
          ]
        }
      ]
    },
    {
      "cell_type": "code",
      "source": [
        "def f(x):\n",
        "  return torch.pow(x - 2.0, 2)\n",
        "\n",
        "x = np.linspace(-7, 9)\n",
        "y = f(torch.tensor(x)).numpy()\n",
        "\n",
        "sns.lineplot(x=x, y=y, label='$f(x)=(x-2)^2$')"
      ],
      "metadata": {
        "colab": {
          "base_uri": "https://localhost:8080/",
          "height": 447
        },
        "id": "iAARNtGQR5Hj",
        "outputId": "acd4fbd3-d533-44c4-9dfe-1773fc70f46b"
      },
      "execution_count": 19,
      "outputs": [
        {
          "output_type": "execute_result",
          "data": {
            "text/plain": [
              "<Axes: >"
            ]
          },
          "metadata": {},
          "execution_count": 19
        },
        {
          "output_type": "display_data",
          "data": {
            "text/plain": [
              "<Figure size 640x480 with 1 Axes>"
            ],
            "image/png": "[encoded data removed]"
          },
          "metadata": {}
        }
      ]
    },
    {
      "cell_type": "code",
      "source": [
        "def f_p(x):\n",
        "  return 2.0 * x - 4\n",
        "\n",
        "y_p = f_p(x)\n",
        "\n",
        "sns.lineplot(x=x, y=[0.0]*len(x), label='0', color='black')\n",
        "sns.lineplot(x=x, y=y, label='$f(x)=(x-2)^2$')\n",
        "sns.lineplot(x=x, y=y_p, label=\"$f'(x)=2x-4$\")"
      ],
      "metadata": {
        "colab": {
          "base_uri": "https://localhost:8080/",
          "height": 447
        },
        "id": "MIw6PRPJY1w_",
        "outputId": "0daba1e0-fc12-4599-df38-e647b74c28d7"
      },
      "execution_count": 20,
      "outputs": [
        {
          "output_type": "execute_result",
          "data": {
            "text/plain": [
              "<Axes: >"
            ]
          },
          "metadata": {},
          "execution_count": 20
        },
        {
          "output_type": "display_data",
          "data": {
            "text/plain": [
              "<Figure size 640x480 with 1 Axes>"
            ],
            "image/png": "[encoded data removed]"
          },
          "metadata": {}
        }
      ]
    },
    {
      "cell_type": "code",
      "source": [
        "x = torch.tensor([-3.5])\n",
        "print(x)"
      ],
      "metadata": {
        "colab": {
          "base_uri": "https://localhost:8080/"
        },
        "id": "DGvJ6aotY3ka",
        "outputId": "a239fb77-98e0-4d46-fb9f-575fd4bed8eb"
      },
      "execution_count": 28,
      "outputs": [
        {
          "output_type": "stream",
          "name": "stdout",
          "text": [
            "tensor([-3.5000])\n"
          ]
        }
      ]
    },
    {
      "cell_type": "code",
      "source": [
        "y = f(x)\n",
        "print(y)"
      ],
      "metadata": {
        "colab": {
          "base_uri": "https://localhost:8080/"
        },
        "id": "2oZJyTrRow_B",
        "outputId": "84a720ad-0daf-4784-d976-c7b0d7636cd8"
      },
      "execution_count": 29,
      "outputs": [
        {
          "output_type": "stream",
          "name": "stdout",
          "text": [
            "tensor([30.2500])\n"
          ]
        }
      ]
    },
    {
      "cell_type": "code",
      "source": [
        "print(x.grad)"
      ],
      "metadata": {
        "colab": {
          "base_uri": "https://localhost:8080/"
        },
        "id": "GrNApjyPo0fI",
        "outputId": "951eadce-cb81-4353-d4e9-d3531dca79b8"
      },
      "execution_count": 30,
      "outputs": [
        {
          "output_type": "stream",
          "name": "stdout",
          "text": [
            "None\n"
          ]
        }
      ]
    },
    {
      "cell_type": "code",
      "source": [
        "y.backward()"
      ],
      "metadata": {
        "colab": {
          "base_uri": "https://localhost:8080/",
          "height": 312
        },
        "id": "rfMQesL0o1ZB",
        "outputId": "6bfb77e2-22fb-4a15-e1a1-97adece6bd06"
      },
      "execution_count": 31,
      "outputs": [
        {
          "output_type": "error",
          "ename": "RuntimeError",
          "evalue": "ignored",
          "traceback": [
            "\u001b[0;31m---------------------------------------------------------------------------\u001b[0m",
            "\u001b[0;31mRuntimeError\u001b[0m                              Traceback (most recent call last)",
            "\u001b[0;32m<ipython-input-31-ab75bb780f4c>\u001b[0m in \u001b[0;36m<cell line: 1>\u001b[0;34m()\u001b[0m\n\u001b[0;32m----> 1\u001b[0;31m \u001b[0my\u001b[0m\u001b[0;34m.\u001b[0m\u001b[0mbackward\u001b[0m\u001b[0;34m(\u001b[0m\u001b[0;34m)\u001b[0m\u001b[0;34m\u001b[0m\u001b[0;34m\u001b[0m\u001b[0m\n\u001b[0m",
            "\u001b[0;32m/usr/local/lib/python3.10/dist-packages/torch/_tensor.py\u001b[0m in \u001b[0;36mbackward\u001b[0;34m(self, gradient, retain_graph, create_graph, inputs)\u001b[0m\n\u001b[1;32m    485\u001b[0m                 \u001b[0minputs\u001b[0m\u001b[0;34m=\u001b[0m\u001b[0minputs\u001b[0m\u001b[0;34m,\u001b[0m\u001b[0;34m\u001b[0m\u001b[0;34m\u001b[0m\u001b[0m\n\u001b[1;32m    486\u001b[0m             )\n\u001b[0;32m--> 487\u001b[0;31m         torch.autograd.backward(\n\u001b[0m\u001b[1;32m    488\u001b[0m             \u001b[0mself\u001b[0m\u001b[0;34m,\u001b[0m \u001b[0mgradient\u001b[0m\u001b[0;34m,\u001b[0m \u001b[0mretain_graph\u001b[0m\u001b[0;34m,\u001b[0m \u001b[0mcreate_graph\u001b[0m\u001b[0;34m,\u001b[0m \u001b[0minputs\u001b[0m\u001b[0;34m=\u001b[0m\u001b[0minputs\u001b[0m\u001b[0;34m\u001b[0m\u001b[0;34m\u001b[0m\u001b[0m\n\u001b[1;32m    489\u001b[0m         )\n",
            "\u001b[0;32m/usr/local/lib/python3.10/dist-packages/torch/autograd/__init__.py\u001b[0m in \u001b[0;36mbackward\u001b[0;34m(tensors, grad_tensors, retain_graph, create_graph, grad_variables, inputs)\u001b[0m\n\u001b[1;32m    198\u001b[0m     \u001b[0;31m# some Python versions print out the first line of a multi-line function\u001b[0m\u001b[0;34m\u001b[0m\u001b[0;34m\u001b[0m\u001b[0m\n\u001b[1;32m    199\u001b[0m     \u001b[0;31m# calls in the traceback and some print out the last line\u001b[0m\u001b[0;34m\u001b[0m\u001b[0;34m\u001b[0m\u001b[0m\n\u001b[0;32m--> 200\u001b[0;31m     Variable._execution_engine.run_backward(  # Calls into the C++ engine to run the backward pass\n\u001b[0m\u001b[1;32m    201\u001b[0m         \u001b[0mtensors\u001b[0m\u001b[0;34m,\u001b[0m \u001b[0mgrad_tensors_\u001b[0m\u001b[0;34m,\u001b[0m \u001b[0mretain_graph\u001b[0m\u001b[0;34m,\u001b[0m \u001b[0mcreate_graph\u001b[0m\u001b[0;34m,\u001b[0m \u001b[0minputs\u001b[0m\u001b[0;34m,\u001b[0m\u001b[0;34m\u001b[0m\u001b[0;34m\u001b[0m\u001b[0m\n\u001b[1;32m    202\u001b[0m         allow_unreachable=True, accumulate_grad=True)  # Calls into the C++ engine to run the backward pass\n",
            "\u001b[0;31mRuntimeError\u001b[0m: element 0 of tensors does not require grad and does not have a grad_fn"
          ]
        }
      ]
    },
    {
      "cell_type": "code",
      "source": [
        "x = torch.tensor([-3.5], requires_grad=True)\n",
        "print(x)"
      ],
      "metadata": {
        "colab": {
          "base_uri": "https://localhost:8080/"
        },
        "id": "84b5ONj9pA1K",
        "outputId": "2d3a5eb5-039c-4111-eb28-3962455abca4"
      },
      "execution_count": 34,
      "outputs": [
        {
          "output_type": "stream",
          "name": "stdout",
          "text": [
            "tensor([-3.5000], requires_grad=True)\n"
          ]
        }
      ]
    },
    {
      "cell_type": "code",
      "source": [
        "y = f(x)\n",
        "print(y)"
      ],
      "metadata": {
        "colab": {
          "base_uri": "https://localhost:8080/"
        },
        "id": "agtFfpMFpOjs",
        "outputId": "ec09ac59-cf05-44ad-d6aa-ecea777d08b8"
      },
      "execution_count": 35,
      "outputs": [
        {
          "output_type": "stream",
          "name": "stdout",
          "text": [
            "tensor([30.2500], grad_fn=<PowBackward0>)\n"
          ]
        }
      ]
    },
    {
      "cell_type": "code",
      "source": [
        "y.backward()"
      ],
      "metadata": {
        "id": "6RxGfA-ZpSCu"
      },
      "execution_count": 36,
      "outputs": []
    },
    {
      "cell_type": "code",
      "source": [
        "print(x.grad)"
      ],
      "metadata": {
        "colab": {
          "base_uri": "https://localhost:8080/"
        },
        "id": "2DVRi4qYpaBG",
        "outputId": "d1f32c23-0fa0-40f7-ec1f-b07097c08a62"
      },
      "execution_count": 37,
      "outputs": [
        {
          "output_type": "stream",
          "name": "stdout",
          "text": [
            "tensor([-11.])\n"
          ]
        }
      ]
    },
    {
      "cell_type": "code",
      "source": [
        "x = torch.tensor([-3.5], requires_grad=True)\n",
        "\n",
        "x_curr = x.clone()\n",
        "x_prev = x_curr.clone() * 100\n",
        "\n",
        "epsilon = 1e-5\n",
        "eta = 0.1\n",
        "\n",
        "while torch.linalg.norm(x_curr - x_prev) > epsilon:\n",
        "  x_prev = x_curr.clone()\n",
        "\n",
        "  y = f(x)\n",
        "  y.backward()\n",
        "  x.data = x.data - eta * x.grad\n",
        "  x.grad.zero_()\n",
        "  x_curr = x.data\n",
        "\n",
        "  print(x_curr)"
      ],
      "metadata": {
        "colab": {
          "base_uri": "https://localhost:8080/"
        },
        "id": "hA99xKy3pcOu",
        "outputId": "ff86594f-fdb3-456a-d390-50701d62473d"
      },
      "execution_count": 51,
      "outputs": [
        {
          "output_type": "stream",
          "name": "stdout",
          "text": [
            "tensor([-2.4000])\n",
            "tensor([-1.5200])\n",
            "tensor([-0.8160])\n",
            "tensor([-0.2528])\n",
            "tensor([0.1978])\n",
            "tensor([0.5582])\n",
            "tensor([0.8466])\n",
            "tensor([1.0773])\n",
            "tensor([1.2618])\n",
            "tensor([1.4094])\n",
            "tensor([1.5276])\n",
            "tensor([1.6220])\n",
            "tensor([1.6976])\n",
            "tensor([1.7581])\n",
            "tensor([1.8065])\n",
            "tensor([1.8452])\n",
            "tensor([1.8762])\n",
            "tensor([1.9009])\n",
            "tensor([1.9207])\n",
            "tensor([1.9366])\n",
            "tensor([1.9493])\n",
            "tensor([1.9594])\n",
            "tensor([1.9675])\n",
            "tensor([1.9740])\n",
            "tensor([1.9792])\n",
            "tensor([1.9834])\n",
            "tensor([1.9867])\n",
            "tensor([1.9894])\n",
            "tensor([1.9915])\n",
            "tensor([1.9932])\n",
            "tensor([1.9946])\n",
            "tensor([1.9956])\n",
            "tensor([1.9965])\n",
            "tensor([1.9972])\n",
            "tensor([1.9978])\n",
            "tensor([1.9982])\n",
            "tensor([1.9986])\n",
            "tensor([1.9989])\n",
            "tensor([1.9991])\n",
            "tensor([1.9993])\n",
            "tensor([1.9994])\n",
            "tensor([1.9995])\n",
            "tensor([1.9996])\n",
            "tensor([1.9997])\n",
            "tensor([1.9998])\n",
            "tensor([1.9998])\n",
            "tensor([1.9998])\n",
            "tensor([1.9999])\n",
            "tensor([1.9999])\n",
            "tensor([1.9999])\n",
            "tensor([1.9999])\n",
            "tensor([1.9999])\n",
            "tensor([2.0000])\n",
            "tensor([2.0000])\n"
          ]
        }
      ]
    },
    {
      "cell_type": "code",
      "source": [
        "x = torch.tensor([3.5])\n",
        "x_param = torch.nn.Parameter(data=x, requires_grad=True)\n",
        "optimizer = torch.optim.SGD(params=[x_param], lr=eta)\n",
        "\n",
        "epochs = 60\n",
        "for i in range(epochs):\n",
        "  optimizer.zero_grad()\n",
        "  loss = f(x_param)\n",
        "  loss.backward()\n",
        "  optimizer.step()\n",
        "\n",
        "print(x_param.data)"
      ],
      "metadata": {
        "colab": {
          "base_uri": "https://localhost:8080/"
        },
        "id": "BAHVqGHUsbFA",
        "outputId": "ea7da603-7bc3-480e-8a40-a4d11f78fb68"
      },
      "execution_count": 63,
      "outputs": [
        {
          "output_type": "stream",
          "name": "stdout",
          "text": [
            "tensor([2.0000])\n"
          ]
        }
      ]
    },
    {
      "cell_type": "code",
      "source": [
        "from sklearn.datasets import fetch_openml\n",
        "\n",
        "X, y = fetch_openml('mnist_784', version=1, return_X_y=True)\n",
        "print(X.shape)"
      ],
      "metadata": {
        "colab": {
          "base_uri": "https://localhost:8080/"
        },
        "id": "ud8ALzdPvbwq",
        "outputId": "2252472d-09bc-447c-80fc-65801d24c857"
      },
      "execution_count": 65,
      "outputs": [
        {
          "output_type": "stream",
          "name": "stderr",
          "text": [
            "/usr/local/lib/python3.10/dist-packages/sklearn/datasets/_openml.py:968: FutureWarning: The default value of `parser` will change from `'liac-arff'` to `'auto'` in 1.4. You can set `parser='auto'` to silence this warning. Therefore, an `ImportError` will be raised from 1.4 if the dataset is dense and pandas is not installed. Note that the pandas parser may return different data types. See the Notes Section in fetch_openml's API doc for details.\n",
            "  warn(\n"
          ]
        },
        {
          "output_type": "stream",
          "name": "stdout",
          "text": [
            "(70000, 784)\n"
          ]
        }
      ]
    },
    {
      "cell_type": "code",
      "source": [
        "from torch.utils.data import Dataset\n",
        "\n",
        "class SimpleDataset(Dataset):\n",
        "  def __init__(self, X, y):\n",
        "    super(SimpleDataset, self).__init__()\n",
        "    self.X = X\n",
        "    self.y = y\n",
        "\n",
        "  def __getitem__(self, index):\n",
        "    inputs = torch.tensor(self.X.values[index], dtype=torch.float32)\n",
        "    targets = torch.tensor(int(self.y[index]), dtype=torch.int64)\n",
        "    return inputs, targets\n",
        "\n",
        "  def __len__(self):\n",
        "    return self.X.values.shape[0]\n",
        "\n",
        "dataset = SimpleDataset(X, y)\n",
        "\n",
        "print(f'Dataset size: {len(dataset)}')\n",
        "image, label = dataset[0]\n",
        "print(f'Features shape: {image.shape}')\n",
        "print(f'Label: {label}')"
      ],
      "metadata": {
        "colab": {
          "base_uri": "https://localhost:8080/"
        },
        "id": "oe-M2fnqyvtG",
        "outputId": "62dcd519-8064-49d0-deec-a45ee9b6500b"
      },
      "execution_count": 78,
      "outputs": [
        {
          "output_type": "stream",
          "name": "stdout",
          "text": [
            "Dataset size: 70000\n",
            "Features shape: torch.Size([784])\n",
            "Label: 5\n"
          ]
        }
      ]
    },
    {
      "cell_type": "code",
      "source": [
        "plt.imshow(image.reshape((28, 28)))"
      ],
      "metadata": {
        "colab": {
          "base_uri": "https://localhost:8080/",
          "height": 447
        },
        "id": "zDrGIHAF0VQY",
        "outputId": "a70f932f-d6f8-4664-cec5-ad2d1bc44f5d"
      },
      "execution_count": 79,
      "outputs": [
        {
          "output_type": "execute_result",
          "data": {
            "text/plain": [
              "<matplotlib.image.AxesImage at 0x7fe535636350>"
            ]
          },
          "metadata": {},
          "execution_count": 79
        },
        {
          "output_type": "display_data",
          "data": {
            "text/plain": [
              "<Figure size 640x480 with 1 Axes>"
            ],
            "image/png": "[encoded data removed]"
          },
          "metadata": {}
        }
      ]
    },
    {
      "cell_type": "code",
      "source": [
        "from torch.utils.data import random_split\n",
        "\n",
        "train_size = int(len(dataset) * 0.8)\n",
        "test_size = len(dataset) - train_size\n",
        "\n",
        "train_dataset, test_dataset = random_split(dataset=dataset, lengths=(train_size, test_size))\n",
        "print(f'{len(train_dataset)} examples for training and {len(test_dataset)} examples for test')"
      ],
      "metadata": {
        "colab": {
          "base_uri": "https://localhost:8080/"
        },
        "id": "9vVCDp3j01Ku",
        "outputId": "5f70c482-b53b-4acd-98a7-5bb418f18a0e"
      },
      "execution_count": 84,
      "outputs": [
        {
          "output_type": "stream",
          "name": "stdout",
          "text": [
            "56000 examples for training and 14000 examples for test\n"
          ]
        }
      ]
    },
    {
      "cell_type": "code",
      "source": [
        "torch_tensor3d = torch.tensor(torch_tensor3d, dtype=torch.float32)\n",
        "torch_tensor3d"
      ],
      "metadata": {
        "colab": {
          "base_uri": "https://localhost:8080/"
        },
        "id": "R1x8JtM83nNh",
        "outputId": "56f64604-ccde-46c8-9baf-8d9b2e73eed1"
      },
      "execution_count": 97,
      "outputs": [
        {
          "output_type": "stream",
          "name": "stderr",
          "text": [
            "<ipython-input-97-93fee1796305>:1: UserWarning: To copy construct from a tensor, it is recommended to use sourceTensor.clone().detach() or sourceTensor.clone().detach().requires_grad_(True), rather than torch.tensor(sourceTensor).\n",
            "  torch_tensor3d = torch.tensor(torch_tensor3d, dtype=torch.float32)\n"
          ]
        },
        {
          "output_type": "execute_result",
          "data": {
            "text/plain": [
              "tensor([[[ 1.,  2.,  3.],\n",
              "         [ 4.,  5.,  6.]],\n",
              "\n",
              "        [[ 7.,  8.,  9.],\n",
              "         [10., 11., 12.]],\n",
              "\n",
              "        [[13., 14., 15.],\n",
              "         [16., 17., 18.]],\n",
              "\n",
              "        [[19., 20., 21.],\n",
              "         [22., 23., 24.]]])"
            ]
          },
          "metadata": {},
          "execution_count": 97
        }
      ]
    },
    {
      "cell_type": "code",
      "source": [
        "dim1_size, dim2_size, dim3_size = list(torch_tensor3d.shape)\n",
        "\n",
        "sum = 0\n",
        "count = 0\n",
        "\n",
        "for i in range(dim1_size):\n",
        "  for j in range(dim2_size):\n",
        "    for k in range(dim3_size):\n",
        "      sum += torch_tensor3d[i][j][k]\n",
        "      count += 1\n",
        "\n",
        "print(sum)\n",
        "print(count)\n",
        "print(sum/count)"
      ],
      "metadata": {
        "colab": {
          "base_uri": "https://localhost:8080/"
        },
        "id": "5BjlxuYn2VTC",
        "outputId": "f7c48a0a-6e0f-4062-f8fe-eec4c37d239b"
      },
      "execution_count": 98,
      "outputs": [
        {
          "output_type": "stream",
          "name": "stdout",
          "text": [
            "tensor(300.)\n",
            "24\n",
            "tensor(12.5000)\n"
          ]
        }
      ]
    },
    {
      "cell_type": "code",
      "source": [
        "torch.sum(torch_tensor3d)"
      ],
      "metadata": {
        "colab": {
          "base_uri": "https://localhost:8080/"
        },
        "id": "3bxEXw9w2h9s",
        "outputId": "fefb51ae-253b-4994-8e22-2edd63a99ffa"
      },
      "execution_count": 100,
      "outputs": [
        {
          "output_type": "execute_result",
          "data": {
            "text/plain": [
              "tensor(300.)"
            ]
          },
          "metadata": {},
          "execution_count": 100
        }
      ]
    },
    {
      "cell_type": "code",
      "source": [
        "torch.mean(torch_tensor3d)"
      ],
      "metadata": {
        "colab": {
          "base_uri": "https://localhost:8080/"
        },
        "id": "_rr6Kn_V3W6A",
        "outputId": "ea572dc9-9713-42f4-f6b8-76f610979d1f"
      },
      "execution_count": 101,
      "outputs": [
        {
          "output_type": "execute_result",
          "data": {
            "text/plain": [
              "tensor(12.5000)"
            ]
          },
          "metadata": {},
          "execution_count": 101
        }
      ]
    },
    {
      "cell_type": "code",
      "source": [
        "torch_tensor3d[2][0][0]"
      ],
      "metadata": {
        "colab": {
          "base_uri": "https://localhost:8080/"
        },
        "id": "j_eD7gmK3ZYB",
        "outputId": "1aad5c42-23b3-47a7-bdf4-175836091aa3"
      },
      "execution_count": 105,
      "outputs": [
        {
          "output_type": "execute_result",
          "data": {
            "text/plain": [
              "tensor(13.)"
            ]
          },
          "metadata": {},
          "execution_count": 105
        }
      ]
    },
    {
      "cell_type": "code",
      "source": [
        "def f(x):\n",
        "  return torch.sin(x - 2.0) * torch.pow(x + 2.0, 2) + torch.sqrt(torch.abs(torch.cos(x)))\n",
        "\n",
        "x = np.linspace(-10, 10, 10000)\n",
        "y = f(torch.tensor(x)).numpy()\n",
        "\n",
        "sns.lineplot(x=x, y=y)"
      ],
      "metadata": {
        "colab": {
          "base_uri": "https://localhost:8080/",
          "height": 447
        },
        "id": "KCVx0U614B40",
        "outputId": "bf655d9c-5f61-45ca-974f-a4efb3a09c33"
      },
      "execution_count": 122,
      "outputs": [
        {
          "output_type": "execute_result",
          "data": {
            "text/plain": [
              "<Axes: >"
            ]
          },
          "metadata": {},
          "execution_count": 122
        },
        {
          "output_type": "display_data",
          "data": {
            "text/plain": [
              "<Figure size 640x480 with 1 Axes>"
            ],
            "image/png": "[encoded data removed]"
          },
          "metadata": {}
        }
      ]
    },
    {
      "cell_type": "code",
      "source": [
        "eta = 0.01\n",
        "epochs = 10\n",
        "\n",
        "x = torch.tensor(5.0, requires_grad=True)\n",
        "\n",
        "for i in range(epochs):\n",
        "  loss = f(x)\n",
        "  loss.backward()\n",
        "  print(f'x: {x.data:25}, x.grad: {x.grad:25}, update: {(eta * x.grad):25}, updated x: {(x.data - eta * x.grad):25}')\n",
        "  x.data = x.data - eta * x.grad\n",
        "  x.grad.zero_()"
      ],
      "metadata": {
        "colab": {
          "base_uri": "https://localhost:8080/"
        },
        "id": "99c0KpbsArSS",
        "outputId": "17dc38db-0dc9-4a0e-f019-f4fa6d7e9b8d"
      },
      "execution_count": 145,
      "outputs": [
        {
          "output_type": "stream",
          "name": "stdout",
          "text": [
            "x:                       5.0, x.grad:        -45.63372039794922, update:      -0.45633718371391296, updated x:         5.456336975097656\n",
            "x:         5.456336975097656, x.grad:        -57.03529357910156, update:       -0.5703529119491577, updated x:        6.0266900062561035\n",
            "x:        6.0266900062561035, x.grad:       -53.092525482177734, update:       -0.5309252142906189, updated x:         6.557615280151367\n",
            "x:         6.557615280151367, x.grad:       -28.338058471679688, update:      -0.28338056802749634, updated x:         6.840995788574219\n",
            "x:         6.840995788574219, x.grad:        -7.798667907714844, update:      -0.07798667997121811, updated x:          6.91898250579834\n",
            "x:          6.91898250579834, x.grad:       -1.4721527099609375, update:     -0.014721526764333248, updated x:         6.933703899383545\n",
            "x:         6.933703899383545, x.grad:       -0.2515144348144531, update:     -0.002515144180506468, updated x:         6.936219215393066\n",
            "x:         6.936219215393066, x.grad:         -0.04217529296875, update:   -0.00042175292037427425, updated x:         6.936640739440918\n",
            "x:         6.936640739440918, x.grad:     -0.007068634033203125, update:    -7.068633567541838e-05, updated x:         6.936711311340332\n",
            "x:         6.936711311340332, x.grad:        -0.001190185546875, update:   -1.1901855032192543e-05, updated x:         6.936723232269287\n"
          ]
        }
      ]
    },
    {
      "cell_type": "code",
      "source": [
        "x_param = torch.nn.Parameter(torch.tensor(5.0), requires_grad=True)\n",
        "optimizer = torch.optim.SGD(params=[x_param], lr=eta)\n",
        "\n",
        "for i in range(epochs):\n",
        "  optimizer.zero_grad()\n",
        "  loss = f(x_param)\n",
        "  loss.backward()\n",
        "  optimizer.step()\n",
        "\n",
        "print(x_param.data)"
      ],
      "metadata": {
        "colab": {
          "base_uri": "https://localhost:8080/"
        },
        "id": "MuUbK1yz6-HM",
        "outputId": "dd8e2ae4-a022-4c87-af58-1287e2835809"
      },
      "execution_count": 146,
      "outputs": [
        {
          "output_type": "stream",
          "name": "stdout",
          "text": [
            "tensor(6.9367)\n"
          ]
        }
      ]
    },
    {
      "cell_type": "code",
      "source": [
        "def f_np(x, y):\n",
        "  return (np.exp(np.sin(x)**2) / ((x - y)**2)) + ((x - y)**2)\n",
        "\n",
        "x = np.linspace(2, 5, 10)\n",
        "y = np.linspace(3, 6, 10)\n",
        "X, Y = np.meshgrid(x, y)\n",
        "Z = f_np(X, Y)\n",
        "\n",
        "fig = plt.figure(figsize=(8, 6))\n",
        "ax = plt.axes(projection='3d')\n",
        "ax.contour3D(X, Y, Z, 50, cmap='viridis')\n",
        "ax.set_xlabel('X')\n",
        "ax.set_ylabel('Y')\n",
        "ax.set_zlabel('Z')\n",
        "plt.show()"
      ],
      "metadata": {
        "colab": {
          "base_uri": "https://localhost:8080/",
          "height": 536
        },
        "id": "AUdMjnb5_sdn",
        "outputId": "0c93a26d-1ce5-4ab0-a87f-fb2f93cbd604"
      },
      "execution_count": 183,
      "outputs": [
        {
          "output_type": "stream",
          "name": "stderr",
          "text": [
            "<ipython-input-183-432a763e329e>:2: RuntimeWarning: divide by zero encountered in true_divide\n",
            "  return (np.exp(np.sin(x)**2) / ((x - y)**2)) + ((x - y)**2)\n"
          ]
        },
        {
          "output_type": "display_data",
          "data": {
            "text/plain": [
              "<Figure size 800x600 with 1 Axes>"
            ],
            "image/png": "[encoded data removed]"
          },
          "metadata": {}
        }
      ]
    },
    {
      "cell_type": "code",
      "source": [
        "def f(x, y):\n",
        "  return (torch.exp(torch.pow(torch.sin(x), 2)) / torch.pow(x - y, 2)) + torch.pow(x - y, 2)\n",
        "\n",
        "eta = 0.1\n",
        "epochs = 100\n",
        "\n",
        "x_param = torch.nn.Parameter(torch.tensor(0.2), requires_grad=True)\n",
        "y_param = torch.nn.Parameter(torch.tensor(10.0), requires_grad=True)\n",
        "optimizer = torch.optim.SGD(params=[x_param, y_param], lr=eta)\n",
        "\n",
        "for i in range(epochs):\n",
        "  optimizer.zero_grad()\n",
        "  loss = f(x_param, y_param)\n",
        "  loss.backward()\n",
        "  optimizer.step()\n",
        "\n",
        "print(x_param.data)\n",
        "print(y_param.data)"
      ],
      "metadata": {
        "colab": {
          "base_uri": "https://localhost:8080/"
        },
        "id": "JPMpSC_3BM3z",
        "outputId": "f131afbd-6879-4538-f798-11d717c23cd9"
      },
      "execution_count": 179,
      "outputs": [
        {
          "output_type": "stream",
          "name": "stdout",
          "text": [
            "tensor(3.1419)\n",
            "tensor(4.1419)\n"
          ]
        }
      ]
    },
    {
      "cell_type": "code",
      "source": [
        "x = torch.tensor(0.2, requires_grad=True)\n",
        "y = torch.tensor(10.0, requires_grad=True)\n",
        "\n",
        "for i in range(epochs):\n",
        "  loss = f(x, y)\n",
        "  loss.backward()\n",
        "  print(f'x: {x.data:25}, updated x: {(x.data - eta * x.grad):25}, y: {y.data:25}, updated y: {(y.data - eta * y.grad):25}')\n",
        "  x.data = x.data - eta * x.grad\n",
        "  y.data = y.data - eta * y.grad\n",
        "  x.grad.zero_()\n",
        "  y.grad.zero_()"
      ],
      "metadata": {
        "colab": {
          "base_uri": "https://localhost:8080/"
        },
        "id": "fSWlo7UdFL-F",
        "outputId": "2fd95b1e-d35d-4f2d-f215-b35d7ec1a59b"
      },
      "execution_count": 180,
      "outputs": [
        {
          "output_type": "stream",
          "name": "stdout",
          "text": [
            "x:       0.20000000298023224, updated x:        2.1593573093414307, y:                      10.0, updated y:         8.040221214294434\n",
            "x:        2.1593573093414307, updated x:         3.338899612426758, y:         8.040221214294434, updated y:        6.8660125732421875\n",
            "x:         3.338899612426758, updated x:         4.036374092102051, y:        6.8660125732421875, updated y:        6.1653265953063965\n",
            "x:         4.036374092102051, updated x:         4.384496212005615, y:        6.1653265953063965, updated y:         5.777625560760498\n",
            "x:         4.384496212005615, updated x:         4.404868125915527, y:         5.777625560760498, updated y:         5.680261611938477\n",
            "x:         4.404868125915527, updated x:         4.332855701446533, y:         5.680261611938477, updated y:        5.6642937660217285\n",
            "x:         4.332855701446533, updated x:        4.3063507080078125, y:        5.6642937660217285, updated y:         5.598799705505371\n",
            "x:        4.3063507080078125, updated x:         4.248359680175781, y:         5.598799705505371, updated y:         5.555753231048584\n",
            "x:         4.248359680175781, updated x:         4.206528186798096, y:         5.555753231048584, updated y:         5.493393898010254\n",
            "x:         4.206528186798096, updated x:         4.152146816253662, y:         5.493393898010254, updated y:         5.437742710113525\n",
            "x:         4.152146816253662, updated x:         4.104700088500977, y:         5.437742710113525, updated y:        5.3735432624816895\n",
            "x:         4.104700088500977, updated x:         4.052120685577393, y:        5.3735432624816895, updated y:         5.311870098114014\n",
            "x:         4.052120685577393, updated x:         4.003465175628662, y:         5.311870098114014, updated y:        5.2466020584106445\n",
            "x:         4.003465175628662, updated x:        3.9530789852142334, y:        5.2466020584106445, updated y:         5.183201313018799\n",
            "x:        3.9530789852142334, updated x:         3.905594825744629, y:         5.183201313018799, updated y:        5.1190032958984375\n",
            "x:         3.905594825744629, updated x:        3.8581063747406006, y:        5.1190032958984375, updated y:         5.056983470916748\n",
            "x:        3.8581063747406006, updated x:         3.813138008117676, y:         5.056983470916748, updated y:        4.9958696365356445\n",
            "x:         3.813138008117676, updated x:         3.769087314605713, y:        4.9958696365356445, updated y:        4.9373555183410645\n",
            "x:         3.769087314605713, updated x:         3.727377414703369, y:        4.9373555183410645, updated y:         4.880756378173828\n",
            "x:         3.727377414703369, updated x:         3.687080144882202, y:         4.880756378173828, updated y:         4.827032089233398\n",
            "x:         3.687080144882202, updated x:         3.649003505706787, y:         4.827032089233398, updated y:         4.775758743286133\n",
            "x:         3.649003505706787, updated x:          3.61258864402771, y:         4.775758743286133, updated y:         4.727453231811523\n",
            "x:          3.61258864402771, updated x:         3.578284502029419, y:         4.727453231811523, updated y:        4.6818132400512695\n",
            "x:         3.578284502029419, updated x:        3.5457398891448975, y:        4.6818132400512695, updated y:         4.639085292816162\n",
            "x:        3.5457398891448975, updated x:         3.515188694000244, y:         4.639085292816162, updated y:         4.599029541015625\n",
            "x:         3.515188694000244, updated x:        3.4863977432250977, y:         4.599029541015625, updated y:         4.561727046966553\n",
            "x:        3.4863977432250977, updated x:          3.45947003364563, y:         4.561727046966553, updated y:         4.526973247528076\n",
            "x:          3.45947003364563, updated x:        3.4342379570007324, y:         4.526973247528076, updated y:         4.494751930236816\n",
            "x:        3.4342379570007324, updated x:         3.410726547241211, y:         4.494751930236816, updated y:          4.46488094329834\n",
            "x:         3.410726547241211, updated x:         3.388803720474243, y:          4.46488094329834, updated y:         4.437291145324707\n",
            "x:         3.388803720474243, updated x:        3.3684492111206055, y:         4.437291145324707, updated y:        4.4118170738220215\n",
            "x:        3.3684492111206055, updated x:         3.349551200866699, y:        4.4118170738220215, updated y:         4.388363361358643\n",
            "x:         3.349551200866699, updated x:        3.3320634365081787, y:         4.388363361358643, updated y:        4.3667802810668945\n",
            "x:        3.3320634365081787, updated x:        3.3158881664276123, y:        4.3667802810668945, updated y:         4.346961975097656\n",
            "x:        3.3158881664276123, updated x:        3.3009650707244873, y:         4.346961975097656, updated y:         4.328774452209473\n",
            "x:        3.3009650707244873, updated x:        3.2872064113616943, y:         4.328774452209473, updated y:         4.312111854553223\n",
            "x:        3.2872064113616943, updated x:         3.274547576904297, y:         4.312111854553223, updated y:        4.2968549728393555\n",
            "x:         3.274547576904297, updated x:         3.262908935546875, y:        4.2968549728393555, updated y:          4.28290319442749\n",
            "x:         3.262908935546875, updated x:         3.252225637435913, y:          4.28290319442749, updated y:         4.270152568817139\n",
            "x:         3.252225637435913, updated x:         3.242427110671997, y:         4.270152568817139, updated y:         4.258511066436768\n",
            "x:         3.242427110671997, updated x:        3.2334513664245605, y:         4.258511066436768, updated y:         4.247888088226318\n",
            "x:        3.2334513664245605, updated x:        3.2252354621887207, y:         4.247888088226318, updated y:          4.23820161819458\n",
            "x:        3.2252354621887207, updated x:        3.2177224159240723, y:          4.23820161819458, updated y:         4.229373931884766\n",
            "x:        3.2177224159240723, updated x:         3.210857391357422, y:         4.229373931884766, updated y:         4.221333026885986\n",
            "x:         3.210857391357422, updated x:        3.2045888900756836, y:         4.221333026885986, updated y:         4.214012622833252\n",
            "x:        3.2045888900756836, updated x:         3.198869466781616, y:         4.214012622833252, updated y:         4.207350730895996\n",
            "x:         3.198869466781616, updated x:        3.1936535835266113, y:         4.207350730895996, updated y:         4.201291084289551\n",
            "x:        3.1936535835266113, updated x:        3.1889002323150635, y:         4.201291084289551, updated y:         4.195780277252197\n",
            "x:        3.1889002323150635, updated x:         3.184569835662842, y:         4.195780277252197, updated y:         4.190771102905273\n",
            "x:         3.184569835662842, updated x:        3.1806273460388184, y:         4.190771102905273, updated y:          4.18621826171875\n",
            "x:        3.1806273460388184, updated x:        3.1770389080047607, y:          4.18621826171875, updated y:         4.182082653045654\n",
            "x:        3.1770389080047607, updated x:        3.1737747192382812, y:         4.182082653045654, updated y:         4.178325653076172\n",
            "x:        3.1737747192382812, updated x:        3.1708059310913086, y:         4.178325653076172, updated y:        4.1749138832092285\n",
            "x:        3.1708059310913086, updated x:         3.168107032775879, y:        4.1749138832092285, updated y:         4.171816349029541\n",
            "x:         3.168107032775879, updated x:         3.165653944015503, y:         4.171816349029541, updated y:         4.169004440307617\n",
            "x:         3.165653944015503, updated x:        3.1634252071380615, y:         4.169004440307617, updated y:         4.166451930999756\n",
            "x:        3.1634252071380615, updated x:         3.161400318145752, y:         4.166451930999756, updated y:         4.164135932922363\n",
            "x:         3.161400318145752, updated x:        3.1595616340637207, y:         4.164135932922363, updated y:         4.162034034729004\n",
            "x:        3.1595616340637207, updated x:        3.1578917503356934, y:         4.162034034729004, updated y:         4.160127639770508\n",
            "x:        3.1578917503356934, updated x:        3.1563761234283447, y:         4.160127639770508, updated y:         4.158397674560547\n",
            "x:        3.1563761234283447, updated x:        3.1549999713897705, y:         4.158397674560547, updated y:         4.156828880310059\n",
            "x:        3.1549999713897705, updated x:        3.1537516117095947, y:         4.156828880310059, updated y:         4.155405521392822\n",
            "x:        3.1537516117095947, updated x:         3.152618169784546, y:         4.155405521392822, updated y:         4.154115200042725\n",
            "x:         3.152618169784546, updated x:         3.151590347290039, y:         4.154115200042725, updated y:         4.152944564819336\n",
            "x:         3.151590347290039, updated x:        3.1506574153900146, y:         4.152944564819336, updated y:         4.151883125305176\n",
            "x:        3.1506574153900146, updated x:         3.149811267852783, y:         4.151883125305176, updated y:         4.150920867919922\n",
            "x:         3.149811267852783, updated x:        3.1490437984466553, y:         4.150920867919922, updated y:          4.15004825592041\n",
            "x:        3.1490437984466553, updated x:         3.148347854614258, y:          4.15004825592041, updated y:         4.149257183074951\n",
            "x:         3.148347854614258, updated x:         3.147716522216797, y:         4.149257183074951, updated y:         4.148540019989014\n",
            "x:         3.147716522216797, updated x:         3.147144317626953, y:         4.148540019989014, updated y:         4.147889614105225\n",
            "x:         3.147144317626953, updated x:          3.14662504196167, y:         4.147889614105225, updated y:        4.1473002433776855\n",
            "x:          3.14662504196167, updated x:        3.1461544036865234, y:        4.1473002433776855, updated y:          4.14676570892334\n",
            "x:        3.1461544036865234, updated x:        3.1457276344299316, y:          4.14676570892334, updated y:        4.1462812423706055\n",
            "x:        3.1457276344299316, updated x:          3.14534068107605, y:        4.1462812423706055, updated y:           4.1458420753479\n",
            "x:          3.14534068107605, updated x:        3.1449897289276123, y:           4.1458420753479, updated y:         4.145443916320801\n",
            "x:        3.1449897289276123, updated x:         3.144671678543091, y:         4.145443916320801, updated y:         4.145082950592041\n",
            "x:         3.144671678543091, updated x:         3.144383192062378, y:         4.145082950592041, updated y:         4.144755840301514\n",
            "x:         3.144383192062378, updated x:        3.1441218852996826, y:         4.144755840301514, updated y:         4.144459247589111\n",
            "x:        3.1441218852996826, updated x:        3.1438848972320557, y:         4.144459247589111, updated y:         4.144190788269043\n",
            "x:        3.1438848972320557, updated x:        3.1436703205108643, y:         4.144190788269043, updated y:         4.143947124481201\n",
            "x:        3.1436703205108643, updated x:        3.1434755325317383, y:         4.143947124481201, updated y:         4.143726825714111\n",
            "x:        3.1434755325317383, updated x:        3.1432993412017822, y:         4.143726825714111, updated y:         4.143526554107666\n",
            "x:        3.1432993412017822, updated x:         3.143139362335205, y:         4.143526554107666, updated y:         4.143345355987549\n",
            "x:         3.143139362335205, updated x:        3.1429944038391113, y:         4.143345355987549, updated y:         4.143181324005127\n",
            "x:        3.1429944038391113, updated x:        3.1428632736206055, y:         4.143181324005127, updated y:         4.143032073974609\n",
            "x:        3.1428632736206055, updated x:        3.1427438259124756, y:         4.143032073974609, updated y:         4.142897605895996\n",
            "x:        3.1427438259124756, updated x:         3.142636299133301, y:         4.142897605895996, updated y:         4.142775058746338\n",
            "x:         3.142636299133301, updated x:          3.14253830909729, y:         4.142775058746338, updated y:         4.142664432525635\n",
            "x:          3.14253830909729, updated x:        3.1424498558044434, y:         4.142664432525635, updated y:         4.142563819885254\n",
            "x:        3.1424498558044434, updated x:         3.142369508743286, y:         4.142563819885254, updated y:         4.142472743988037\n",
            "x:         3.142369508743286, updated x:         3.142296552658081, y:         4.142472743988037, updated y:         4.142390251159668\n",
            "x:         3.142296552658081, updated x:         3.142230749130249, y:         4.142390251159668, updated y:          4.14231538772583\n",
            "x:         3.142230749130249, updated x:        3.1421706676483154, y:          4.14231538772583, updated y:         4.142247676849365\n",
            "x:        3.1421706676483154, updated x:        3.1421165466308594, y:         4.142247676849365, updated y:         4.142186164855957\n",
            "x:        3.1421165466308594, updated x:        3.1420674324035645, y:         4.142186164855957, updated y:         4.142130374908447\n",
            "x:        3.1420674324035645, updated x:        3.1420228481292725, y:         4.142130374908447, updated y:         4.142080307006836\n",
            "x:        3.1420228481292725, updated x:        3.1419827938079834, y:         4.142080307006836, updated y:         4.142034530639648\n",
            "x:        3.1419827938079834, updated x:        3.1419460773468018, y:         4.142034530639648, updated y:         4.141993045806885\n",
            "x:        3.1419460773468018, updated x:        3.1419129371643066, y:         4.141993045806885, updated y:         4.141955375671387\n",
            "x:        3.1419129371643066, updated x:          3.14188289642334, y:         4.141955375671387, updated y:         4.141921520233154\n"
          ]
        }
      ]
    },
    {
      "cell_type": "code",
      "source": [],
      "metadata": {
        "id": "Iy3fO-YdG-qP"
      },
      "execution_count": null,
      "outputs": []
    }
  ]
}