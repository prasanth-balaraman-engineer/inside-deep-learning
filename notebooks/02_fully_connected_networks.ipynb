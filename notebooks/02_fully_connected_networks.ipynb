{
 "cells": [
  {
   "cell_type": "code",
   "execution_count": null,
   "metadata": {},
   "outputs": [],
   "source": [
    "import time\n",
    "import numpy as np\n",
    "import matplotlib.pyplot as plt\n",
    "import seaborn as sns\n",
    "import torch\n",
    "import torch.nn as nn\n",
    "import torch.nn.functional as F\n",
    "from torch.utils.data import Dataset, TensorDataset, DataLoader\n",
    "from sklearn.datasets import make_moons\n",
    "from tqdm import tqdm"
   ]
  },
  {
   "cell_type": "code",
   "execution_count": null,
   "metadata": {},
   "outputs": [],
   "source": [
    "X = np.linspace(start=0, stop=20, num=200)\n",
    "y = X + np.sin(X)*2 + np.random.normal(size=X.shape)\n",
    "\n",
    "sns.scatterplot(x=X, y=y)"
   ]
  },
  {
   "cell_type": "code",
   "execution_count": null,
   "metadata": {},
   "outputs": [],
   "source": [
    "class SimpleDataset(Dataset):\n",
    "    def __init__(self, X, y):\n",
    "        super(SimpleDataset, self).__init__()\n",
    "        self.X = X.reshape(-1, 1)\n",
    "        self.y = y.reshape(-1, 1)\n",
    "    \n",
    "    def __getitem__(self, index):\n",
    "        inputs = torch.tensor(self.X[index], dtype=torch.float32)\n",
    "        labels = torch.tensor(self.y[index], dtype=torch.float32)\n",
    "        return inputs, labels\n",
    "    \n",
    "    def __len__(self):\n",
    "        return self.X.shape[0]\n",
    "\n",
    "\n",
    "def move_to(obj, device):\n",
    "    if isinstance(obj, list):\n",
    "        return [move_to(o, device) for o in obj]\n",
    "    elif isinstance(obj, tuple):\n",
    "        return tuple(move_to(list(obj), device))\n",
    "    elif isinstance(obj, set):\n",
    "        return set(move_to(list(obj), device))\n",
    "    elif isinstance(obj, dict):\n",
    "        result = dict()\n",
    "        for key, value in obj.items():\n",
    "            result[move_to(key, device)] = move_to(value, device)\n",
    "        return result\n",
    "    elif hasattr(obj, 'to'):\n",
    "        return obj.to(device)\n",
    "    else:\n",
    "        return obj\n",
    "    \n",
    "\n",
    "def train_simple_network(model, loss_function, training_loader, device, epochs, learning_rate):\n",
    "    optimizer = torch.optim.SGD(params=model.parameters(), lr=learning_rate)\n",
    "    model.to(device)\n",
    "    \n",
    "    for epoch in tqdm(range(epochs), desc='Epoch'):\n",
    "        model = model.train()\n",
    "        running_loss = 0.0\n",
    "        \n",
    "        for inputs, labels in training_loader:\n",
    "            inputs = move_to(inputs, device)\n",
    "            labels = move_to(labels, device)\n",
    "            \n",
    "            optimizer.zero_grad()\n",
    "            y_hat = model(inputs)\n",
    "            loss = loss_function(y_hat, labels)\n",
    "            loss.backward()\n",
    "            optimizer.step()\n",
    "            \n",
    "            running_loss += loss.item()\n",
    "            \n",
    "\n",
    "def visualize_2d_softmax(X, y, model, device, title=None):\n",
    "    x_min = np.min(X[:, 0]) - 0.5\n",
    "    x_max = np.max(X[:, 0]) + 0.5\n",
    "    y_min = np.min(X[:, 1]) - 0.5\n",
    "    y_max = np.max(X[:, 1]) + 0.5\n",
    "    xv, yv = np.meshgrid(np.linspace(x_min, x_max, num=20), np.linspace(y_min, y_max, num=20), indexing='ij')\n",
    "    xy_v = np.hstack((xv.reshape(-1, 1), yv.reshape(-1, 1)))\n",
    "    \n",
    "    with torch.no_grad():\n",
    "        inputs = torch.tensor(data=xy_v, dtype=torch.float32).to(device)\n",
    "        logits = model(inputs)\n",
    "        y_pred = F.softmax(logits, dim=1)\n",
    "        \n",
    "    cs = plt.contourf(xv, yv, y_pred[:, 0].reshape(20, 20), levels=np.linspace(0, 1, num=20), cmap=plt.cm.RdYlBu)\n",
    "    ax = plt.gca()\n",
    "    sns.scatterplot(x=X[:, 0], y=X[:, 1], hue=y, style=y, ax=ax)\n",
    "    if title is not None:\n",
    "        ax.set_title(title)"
   ]
  },
  {
   "cell_type": "code",
   "execution_count": null,
   "metadata": {},
   "outputs": [],
   "source": [
    "device = torch.device('cuda') if torch.cuda.is_available() else torch.device('cpu')\n",
    "device"
   ]
  },
  {
   "cell_type": "code",
   "execution_count": null,
   "metadata": {},
   "outputs": [],
   "source": [
    "input_features = 1\n",
    "output_features = 1\n",
    "model = nn.Linear(input_features, output_features)\n",
    "\n",
    "loss_function = nn.MSELoss()\n",
    "\n",
    "regression_dataset = SimpleDataset(X, y)\n",
    "training_loader = DataLoader(dataset=regression_dataset, shuffle=True)\n",
    "\n",
    "train_simple_network(model, loss_function, training_loader, device, epochs=20, learning_rate=0.001)"
   ]
  },
  {
   "cell_type": "code",
   "execution_count": null,
   "metadata": {},
   "outputs": [],
   "source": [
    "with torch.no_grad():\n",
    "    inputs = torch.tensor(data=X.reshape(-1, 1), dtype=torch.float32).to(device)\n",
    "    y_pred = model(inputs).cpu().numpy()\n",
    "    \n",
    "sns.scatterplot(x=X, y=y, label='Data')\n",
    "sns.lineplot(x=X, y=y_pred.ravel(), color='red', label='Linear model')"
   ]
  },
  {
   "cell_type": "code",
   "execution_count": null,
   "metadata": {},
   "outputs": [],
   "source": [
    "hidden_features = 10\n",
    "model = nn.Sequential(\n",
    "    nn.Linear(input_features, hidden_features),\n",
    "    nn.Tanh(),\n",
    "    nn.Linear(hidden_features, output_features),\n",
    ")\n",
    "train_simple_network(model, loss_function, training_loader, device, epochs=200, learning_rate=0.001)"
   ]
  },
  {
   "cell_type": "code",
   "execution_count": null,
   "metadata": {},
   "outputs": [],
   "source": [
    "with torch.no_grad():\n",
    "    inputs = torch.tensor(data=X.reshape(-1, 1), dtype=torch.float32).to(device)\n",
    "    y_pred = model(inputs).cpu().numpy()\n",
    "    \n",
    "sns.scatterplot(x=X, y=y, label='Data')\n",
    "sns.lineplot(x=X, y=y_pred.ravel(), color='red', label='Linear model')"
   ]
  },
  {
   "cell_type": "code",
   "execution_count": null,
   "metadata": {},
   "outputs": [],
   "source": [
    "X, y = make_moons(n_samples=200, noise=0.05)\n",
    "\n",
    "sns.scatterplot(x=X[:, 0], y=X[:, 1], hue=y)"
   ]
  },
  {
   "cell_type": "code",
   "execution_count": null,
   "metadata": {},
   "outputs": [],
   "source": [
    "classification_dataset = TensorDataset(torch.tensor(X, dtype=torch.float32), torch.tensor(y, dtype=torch.long))\n",
    "classification_dataset[0]"
   ]
  },
  {
   "cell_type": "code",
   "execution_count": null,
   "metadata": {},
   "outputs": [],
   "source": [
    "training_loader = DataLoader(dataset=classification_dataset, shuffle=True)\n",
    "\n",
    "input_features = 2\n",
    "output_features = 2\n",
    "model = nn.Linear(input_features, output_features)\n",
    "\n",
    "loss_function = nn.CrossEntropyLoss()\n",
    "\n",
    "train_simple_network(model, loss_function, training_loader, device, epochs=20, learning_rate=0.001)"
   ]
  },
  {
   "cell_type": "code",
   "execution_count": null,
   "metadata": {},
   "outputs": [],
   "source": [
    "visualize_2d_softmax(X, y, model, device)"
   ]
  },
  {
   "cell_type": "code",
   "execution_count": null,
   "metadata": {},
   "outputs": [],
   "source": [
    "hidden_features = 30\n",
    "\n",
    "model = nn.Sequential(\n",
    "    nn.Linear(input_features, hidden_features),\n",
    "    nn.Tanh(),\n",
    "    nn.Linear(hidden_features, hidden_features),\n",
    "    nn.Tanh(),\n",
    "    nn.Linear(hidden_features, output_features),\n",
    ")\n",
    "\n",
    "train_simple_network(model, loss_function, training_loader, device, epochs=220, learning_rate=0.001)"
   ]
  },
  {
   "cell_type": "code",
   "execution_count": null,
   "metadata": {},
   "outputs": [],
   "source": [
    "visualize_2d_softmax(X, y, model, device)"
   ]
  },
  {
   "cell_type": "code",
   "execution_count": null,
   "metadata": {},
   "outputs": [],
   "source": [
    "def run_epoch():\n",
    "    pass\n",
    "\n",
    "def train_simple_network():\n",
    "    pass"
   ]
  },
  {
   "cell_type": "code",
   "execution_count": null,
   "metadata": {},
   "outputs": [],
   "source": []
  }
 ],
 "metadata": {
  "accelerator": "GPU",
  "colab": {
   "gpuType": "T4",
   "include_colab_link": true,
   "provenance": []
  },
  "kernelspec": {
   "display_name": "Python 3 (ipykernel)",
   "language": "python",
   "name": "python3"
  },
  "language_info": {
   "codemirror_mode": {
    "name": "ipython",
    "version": 3
   },
   "file_extension": ".py",
   "mimetype": "text/x-python",
   "name": "python",
   "nbconvert_exporter": "python",
   "pygments_lexer": "ipython3",
   "version": "3.11.4"
  }
 },
 "nbformat": 4,
 "nbformat_minor": 1
}
